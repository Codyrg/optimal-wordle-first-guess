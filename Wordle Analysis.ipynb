{
 "cells": [
  {
   "cell_type": "code",
   "execution_count": 24,
   "id": "8347c9ea",
   "metadata": {},
   "outputs": [],
   "source": [
    "# load up words from disk\n",
    "with open('words.csv', 'r') as f:\n",
    "    words = f.readlines()"
   ]
  },
  {
   "cell_type": "code",
   "execution_count": 25,
   "id": "e8207eff",
   "metadata": {},
   "outputs": [],
   "source": [
    "# strip newline from each line\n",
    "words = [word.strip('\\n') for word in words]"
   ]
  },
  {
   "cell_type": "code",
   "execution_count": 26,
   "id": "36c54066",
   "metadata": {},
   "outputs": [
    {
     "data": {
      "text/plain": [
       "12972"
      ]
     },
     "execution_count": 26,
     "metadata": {},
     "output_type": "execute_result"
    }
   ],
   "source": [
    "# capture a count of the number of accepted Wordle words\n",
    "total_wordle_words_count = len(words)\n",
    "total_wordle_words_count "
   ]
  },
  {
   "cell_type": "code",
   "execution_count": 27,
   "id": "d2fb0d81",
   "metadata": {},
   "outputs": [],
   "source": [
    "# initialize dictionaries tracking the character frequencies at each position\n",
    "initial_counts = {'a': 0, 'b': 0, 'c': 0, 'd': 0, 'e': 0, 'f': 0, 'g': 0, \n",
    "                  'h': 0, 'i': 0, 'j': 0, 'k': 0, 'l': 0, 'm': 0, 'n': 0, \n",
    "                  'o': 0, 'p': 0, 'q': 0, 'r': 0, 's': 0, 't': 0, 'u': 0,\n",
    "                  'v': 0, 'w': 0, 'x': 0, 'y': 0, 'z': 0}\n",
    "\n",
    "first_character_frequencies = initial_counts.copy()\n",
    "second_character_frequencies = initial_counts.copy()\n",
    "third_character_frequencies = initial_counts.copy()\n",
    "fourth_character_frequencies = initial_counts.copy()\n",
    "fifth_character_frequencies = initial_counts.copy()"
   ]
  },
  {
   "cell_type": "code",
   "execution_count": 28,
   "id": "91cb5248",
   "metadata": {},
   "outputs": [],
   "source": [
    "for word in words:\n",
    "    first_character_frequencies[word[0]] += 1\n",
    "    second_character_frequencies[word[1]] += 1\n",
    "    third_character_frequencies[word[2]] += 1    \n",
    "    fourth_character_frequencies[word[3]] += 1    \n",
    "    fifth_character_frequencies[word[4]] += 1    "
   ]
  },
  {
   "cell_type": "code",
   "execution_count": null,
   "id": "081052bb",
   "metadata": {},
   "outputs": [],
   "source": []
  }
 ],
 "metadata": {
  "kernelspec": {
   "display_name": "Python 3 (ipykernel)",
   "language": "python",
   "name": "python3"
  },
  "language_info": {
   "codemirror_mode": {
    "name": "ipython",
    "version": 3
   },
   "file_extension": ".py",
   "mimetype": "text/x-python",
   "name": "python",
   "nbconvert_exporter": "python",
   "pygments_lexer": "ipython3",
   "version": "3.10.1"
  }
 },
 "nbformat": 4,
 "nbformat_minor": 5
}
