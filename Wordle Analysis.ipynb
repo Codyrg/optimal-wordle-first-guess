{
 "cells": [
  {
   "cell_type": "code",
   "execution_count": 24,
   "id": "15e4612b",
   "metadata": {},
   "outputs": [],
   "source": [
    "# load up words from disk\n",
    "with open('words.csv', 'r') as f:\n",
    "    words = f.readlines()"
   ]
  },
  {
   "cell_type": "code",
   "execution_count": 25,
   "id": "d08a1808",
   "metadata": {},
   "outputs": [],
   "source": [
    "# strip newline from each line\n",
    "words = [word.strip('\\n') for word in words]"
   ]
  },
  {
   "cell_type": "code",
   "execution_count": 26,
   "id": "655d07df",
   "metadata": {},
   "outputs": [
    {
     "data": {
      "text/plain": [
       "12972"
      ]
     },
     "execution_count": 26,
     "metadata": {},
     "output_type": "execute_result"
    }
   ],
   "source": [
    "# capture a count of the number of accepted Wordle words\n",
    "total_wordle_words_count = len(words)\n",
    "total_wordle_words_count "
   ]
  },
  {
   "cell_type": "code",
   "execution_count": 32,
   "id": "4c7c1621",
   "metadata": {},
   "outputs": [],
   "source": [
    "# initialize dictionaries tracking the character counts at each position\n",
    "initial_counts = {'a': 0, 'b': 0, 'c': 0, 'd': 0, 'e': 0, 'f': 0, 'g': 0, \n",
    "                  'h': 0, 'i': 0, 'j': 0, 'k': 0, 'l': 0, 'm': 0, 'n': 0, \n",
    "                  'o': 0, 'p': 0, 'q': 0, 'r': 0, 's': 0, 't': 0, 'u': 0,\n",
    "                  'v': 0, 'w': 0, 'x': 0, 'y': 0, 'z': 0}\n",
    "\n",
    "first_character_counts = initial_counts.copy()\n",
    "second_character_counts = initial_counts.copy()\n",
    "third_character_counts = initial_counts.copy()\n",
    "fourth_character_counts = initial_counts.copy()\n",
    "fifth_character_counts = initial_counts.copy()"
   ]
  },
  {
   "cell_type": "code",
   "execution_count": 40,
   "id": "ab6268f5",
   "metadata": {},
   "outputs": [],
   "source": [
    "# build counts\n",
    "for word in words:\n",
    "    first_character_counts[word[0]] += 1\n",
    "    second_character_counts[word[1]] += 1\n",
    "    third_character_counts[word[2]] += 1    \n",
    "    fourth_character_counts[word[3]] += 1    \n",
    "    fifth_character_counts[word[4]] += 1    "
   ]
  },
  {
   "cell_type": "code",
   "execution_count": 44,
   "id": "e55eed1b",
   "metadata": {},
   "outputs": [],
   "source": [
    "# build frequency map\n",
    "def calculate_frequency(count_map: dict, total_count: int):\n",
    "    frequency_map = {}\n",
    "    for character, count in count_map.items():\n",
    "        frequency_map[character] = count / total_count\n",
    "\n",
    "    return frequency_map\n",
    "\n",
    "first_character_frequency = calculate_frequency(first_character_counts, total_wordle_words_count)\n",
    "second_character_frequency = calculate_frequency(second_character_counts, total_wordle_words_count)\n",
    "third_character_frequency = calculate_frequency(third_character_counts, total_wordle_words_count)\n",
    "fourth_character_frequency = calculate_frequency(fourth_character_counts, total_wordle_words_count)\n",
    "fifth_character_frequency = calculate_frequency(fifth_character_counts, total_wordle_words_count)"
   ]
  },
  {
   "cell_type": "code",
   "execution_count": 57,
   "id": "b4fcd670",
   "metadata": {},
   "outputs": [],
   "source": [
    "# score each word by expected matched character\n",
    "def score(word, frequency_maps):\n",
    "    \n",
    "    score = 1\n",
    "    \n",
    "    for i in range(0, 5):\n",
    "        character = word[i]\n",
    "        frequency_map = frequency_maps[i]\n",
    "        frequency = frequency_map[character]\n",
    "        score *= frequency\n",
    "        \n",
    "    return score\n",
    "        \n",
    "frequency_maps = [first_character_frequency, \n",
    "                  second_character_frequency, \n",
    "                  third_character_frequency, \n",
    "                  fourth_character_frequency,\n",
    "                  fifth_character_frequency]\n",
    "scored_words = {}\n",
    "\n",
    "for word in words:\n",
    "    scored_words[word] = score(word, frequency_maps)"
   ]
  },
  {
   "cell_type": "code",
   "execution_count": 74,
   "id": "62f53841",
   "metadata": {},
   "outputs": [],
   "source": [
    "# rank words by frequency\n",
    "ranked = [(k, v) for k, v in sorted(scored_words.items(), key=lambda item: -item[1])]"
   ]
  },
  {
   "cell_type": "code",
   "execution_count": 79,
   "id": "9721412f",
   "metadata": {},
   "outputs": [
    {
     "data": {
      "text/plain": [
       "[('sores', 0.003153188178667754),\n",
       " ('sanes', 0.0027394500191896733),\n",
       " ('sones', 0.002537289986841165),\n",
       " ('seres', 0.0024491366196904125),\n",
       " ('sales', 0.002409806655884692),\n",
       " ('soles', 0.0022319729344826844),\n",
       " ('sires', 0.002080562619798428),\n",
       " ('cares', 0.0020056712283722435),\n",
       " ('bares', 0.001977391699121876),\n",
       " ('senes', 0.0019707576806189966)]"
      ]
     },
     "execution_count": 79,
     "metadata": {},
     "output_type": "execute_result"
    }
   ],
   "source": [
    "# show top 10\n",
    "ranked[0:10]"
   ]
  },
  {
   "cell_type": "code",
   "execution_count": 65,
   "id": "cedbc926",
   "metadata": {},
   "outputs": [],
   "source": [
    "# average number of green tiles - this is slow running (O(n^2))\n",
    "def calculate_average_number_of_green_tiles(test_word, words):\n",
    "    number_of_words = len(words)\n",
    "    \n",
    "    total_green_tiles = 0\n",
    "    \n",
    "    for word in words:\n",
    "        for i in range(0, 5):\n",
    "            if test_word[i] == word[i]:\n",
    "                total_green_tiles += 1\n",
    "                \n",
    "    return total_green_tiles / number_of_words\n",
    "\n",
    "green_tile_scores = {}\n",
    "\n",
    "for word in words:\n",
    "    average = calculate_average_number_of_green_tiles(word, words)\n",
    "    green_tile_scores[word] = average"
   ]
  },
  {
   "cell_type": "code",
   "execution_count": 71,
   "id": "d674867c",
   "metadata": {},
   "outputs": [],
   "source": [
    "# rank words by green tiles scores\n",
    "green_tile_ranked = [(k,v) for k, v in sorted(green_tile_scores.items(), key=lambda item: -item[1])]"
   ]
  },
  {
   "cell_type": "code",
   "execution_count": 81,
   "id": "0577407f",
   "metadata": {},
   "outputs": [
    {
     "data": {
      "text/plain": [
       "[('sores', 0.8590810977489979),\n",
       " ('sanes', 0.8539161270428616),\n",
       " ('sales', 0.8449737897008942),\n",
       " ('sones', 0.8410422448350293),\n",
       " ('soles', 0.832099907493062),\n",
       " ('sates', 0.8270891150169596),\n",
       " ('seres', 0.8230033919210608),\n",
       " ('cares', 0.8223866790009251),\n",
       " ('bares', 0.8213845205057045),\n",
       " ('sames', 0.8189947579401788)]"
      ]
     },
     "execution_count": 81,
     "metadata": {},
     "output_type": "execute_result"
    }
   ],
   "source": [
    "# show top 10\n",
    "green_tile_ranked[0:10]"
   ]
  },
  {
   "cell_type": "code",
   "execution_count": 86,
   "id": "71ebb5fa",
   "metadata": {},
   "outputs": [],
   "source": [
    "# build letter bag for provided word\n",
    "def build_letter_bag(word):\n",
    "    \n",
    "    bag = {}\n",
    "    \n",
    "    for c in word:\n",
    "        if c not in bag:\n",
    "            bag[c] = 0\n",
    "        \n",
    "        bag[c] += 1\n",
    "        \n",
    "    return bag\n",
    "\n",
    "# map each word to its letter bag\n",
    "letter_bags = { word: build_letter_bag(word) for word in words}"
   ]
  },
  {
   "cell_type": "code",
   "execution_count": 91,
   "id": "9268e4d3",
   "metadata": {},
   "outputs": [],
   "source": [
    "# average number of yellow tiles - this is still very slow (O(n^2))\n",
    "def calculate_average_number_of_yellow_tiles(test_word, letter_bags):\n",
    "    number_of_words = len(words)\n",
    "    \n",
    "    total_yellow_tiles = 0\n",
    "    \n",
    "    target_word_letter_bag = letter_bags[test_word]\n",
    "    \n",
    "    for word, bag in letter_bags.items():\n",
    "        for c in target_word_letter_bag:\n",
    "            total_yellow_tiles += min(target_word_letter_bag[c], bag.get(c, 0))\n",
    "        \n",
    "    return total_yellow_tiles / number_of_words\n",
    "\n",
    "yellow_tile_scores = {}\n",
    "\n",
    "for word in words:\n",
    "    average = calculate_average_number_of_yellow_tiles(word, letter_bags)\n",
    "    yellow_tile_scores[word] = average"
   ]
  },
  {
   "cell_type": "code",
   "execution_count": 93,
   "id": "916a2984",
   "metadata": {},
   "outputs": [],
   "source": [
    "yellow_tiles_ranked = [(k,v) for k, v in sorted(yellow_tile_scores.items(), key=lambda item: -item[1])]"
   ]
  },
  {
   "cell_type": "code",
   "execution_count": 94,
   "id": "0a845df5",
   "metadata": {},
   "outputs": [
    {
     "data": {
      "text/plain": [
       "[('arose', 1.9111162503854455),\n",
       " ('aeros', 1.9111162503854455),\n",
       " ('soare', 1.9111162503854455),\n",
       " ('arise', 1.8862935553499847),\n",
       " ('raise', 1.8862935553499847),\n",
       " ('aesir', 1.8862935553499847),\n",
       " ('reais', 1.8862935553499847),\n",
       " ('serai', 1.8862935553499847),\n",
       " ('aloes', 1.8498304039469626),\n",
       " ('arles', 1.8496762257169288)]"
      ]
     },
     "execution_count": 94,
     "metadata": {},
     "output_type": "execute_result"
    }
   ],
   "source": [
    "# show top 10 words for expected yellow tiles\n",
    "yellow_tiles_ranked[0:10]"
   ]
  }
 ],
 "metadata": {
  "kernelspec": {
   "display_name": "Python 3 (ipykernel)",
   "language": "python",
   "name": "python3"
  },
  "language_info": {
   "codemirror_mode": {
    "name": "ipython",
    "version": 3
   },
   "file_extension": ".py",
   "mimetype": "text/x-python",
   "name": "python",
   "nbconvert_exporter": "python",
   "pygments_lexer": "ipython3",
   "version": "3.10.1"
  }
 },
 "nbformat": 4,
 "nbformat_minor": 5
}
