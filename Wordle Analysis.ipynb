{
 "cells": [
  {
   "cell_type": "code",
   "execution_count": 24,
   "id": "8d0d22d5",
   "metadata": {},
   "outputs": [],
   "source": [
    "# load up words from disk\n",
    "with open('words.csv', 'r') as f:\n",
    "    words = f.readlines()"
   ]
  },
  {
   "cell_type": "code",
   "execution_count": 25,
   "id": "76c2a371",
   "metadata": {},
   "outputs": [],
   "source": [
    "# strip newline from each line\n",
    "words = [word.strip('\\n') for word in words]"
   ]
  },
  {
   "cell_type": "code",
   "execution_count": 26,
   "id": "d9fa000e",
   "metadata": {},
   "outputs": [
    {
     "data": {
      "text/plain": [
       "12972"
      ]
     },
     "execution_count": 26,
     "metadata": {},
     "output_type": "execute_result"
    }
   ],
   "source": [
    "# capture a count of the number of accepted Wordle words\n",
    "total_wordle_words_count = len(words)\n",
    "total_wordle_words_count "
   ]
  },
  {
   "cell_type": "code",
   "execution_count": 32,
   "id": "6b9cf557",
   "metadata": {},
   "outputs": [],
   "source": [
    "# initialize dictionaries tracking the character counts at each position\n",
    "initial_counts = {'a': 0, 'b': 0, 'c': 0, 'd': 0, 'e': 0, 'f': 0, 'g': 0, \n",
    "                  'h': 0, 'i': 0, 'j': 0, 'k': 0, 'l': 0, 'm': 0, 'n': 0, \n",
    "                  'o': 0, 'p': 0, 'q': 0, 'r': 0, 's': 0, 't': 0, 'u': 0,\n",
    "                  'v': 0, 'w': 0, 'x': 0, 'y': 0, 'z': 0}\n",
    "\n",
    "first_character_counts = initial_counts.copy()\n",
    "second_character_counts = initial_counts.copy()\n",
    "third_character_counts = initial_counts.copy()\n",
    "fourth_character_counts = initial_counts.copy()\n",
    "fifth_character_counts = initial_counts.copy()"
   ]
  },
  {
   "cell_type": "code",
   "execution_count": 40,
   "id": "33f8fd02",
   "metadata": {},
   "outputs": [],
   "source": [
    "# build counts\n",
    "for word in words:\n",
    "    first_character_counts[word[0]] += 1\n",
    "    second_character_counts[word[1]] += 1\n",
    "    third_character_counts[word[2]] += 1    \n",
    "    fourth_character_counts[word[3]] += 1    \n",
    "    fifth_character_counts[word[4]] += 1    "
   ]
  },
  {
   "cell_type": "code",
   "execution_count": 44,
   "id": "43f74802",
   "metadata": {},
   "outputs": [],
   "source": [
    "# build frequency map\n",
    "def calculate_frequency(count_map: dict, total_count: int):\n",
    "    frequency_map = {}\n",
    "    for character, count in count_map.items():\n",
    "        frequency_map[character] = count / total_count\n",
    "\n",
    "    return frequency_map\n",
    "\n",
    "first_character_frequency = calculate_frequency(first_character_counts, total_wordle_words_count)\n",
    "second_character_frequency = calculate_frequency(second_character_counts, total_wordle_words_count)\n",
    "third_character_frequency = calculate_frequency(third_character_counts, total_wordle_words_count)\n",
    "fourth_character_frequency = calculate_frequency(fourth_character_counts, total_wordle_words_count)\n",
    "fifth_character_frequency = calculate_frequency(fifth_character_counts, total_wordle_words_count)"
   ]
  },
  {
   "cell_type": "code",
   "execution_count": 45,
   "id": "d7b13cfb",
   "metadata": {},
   "outputs": [
    {
     "data": {
      "text/plain": [
       "{'a': 0.11362935553499846,\n",
       " 'b': 0.14014801110083255,\n",
       " 'c': 0.1421523280912735,\n",
       " 'd': 0.10561208757323466,\n",
       " 'e': 0.04671600370027752,\n",
       " 'f': 0.09219858156028368,\n",
       " 'g': 0.09836571076164045,\n",
       " 'h': 0.0753931544865865,\n",
       " 'i': 0.02543940795559667,\n",
       " 'j': 0.03114400246685168,\n",
       " 'k': 0.057971014492753624,\n",
       " 'l': 0.08896083872957139,\n",
       " 'm': 0.10684551341350601,\n",
       " 'n': 0.05010792476102374,\n",
       " 'o': 0.04039469626888683,\n",
       " 'p': 0.1324390995991366,\n",
       " 'q': 0.012025901942645698,\n",
       " 'r': 0.09682392846130126,\n",
       " 's': 0.24128893000308357,\n",
       " 't': 0.12565525747764417,\n",
       " 'u': 0.029139685476410732,\n",
       " 'v': 0.03731113166820845,\n",
       " 'w': 0.06367560900400863,\n",
       " 'x': 0.002466851680542707,\n",
       " 'y': 0.027906259636139377,\n",
       " 'z': 0.016188714153561518}"
      ]
     },
     "execution_count": 45,
     "metadata": {},
     "output_type": "execute_result"
    }
   ],
   "source": [
    "first_character_frequency"
   ]
  },
  {
   "cell_type": "code",
   "execution_count": null,
   "id": "f3e30672",
   "metadata": {},
   "outputs": [],
   "source": []
  }
 ],
 "metadata": {
  "kernelspec": {
   "display_name": "Python 3 (ipykernel)",
   "language": "python",
   "name": "python3"
  },
  "language_info": {
   "codemirror_mode": {
    "name": "ipython",
    "version": 3
   },
   "file_extension": ".py",
   "mimetype": "text/x-python",
   "name": "python",
   "nbconvert_exporter": "python",
   "pygments_lexer": "ipython3",
   "version": "3.10.1"
  }
 },
 "nbformat": 4,
 "nbformat_minor": 5
}
